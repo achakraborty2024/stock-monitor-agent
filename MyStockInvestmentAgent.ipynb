{
  "nbformat": 4,
  "nbformat_minor": 0,
  "metadata": {
    "colab": {
      "provenance": []
    },
    "kernelspec": {
      "name": "python3",
      "display_name": "Python 3"
    },
    "language_info": {
      "name": "python"
    }
  },
  "cells": [
    {
      "cell_type": "code",
      "execution_count": 1,
      "metadata": {
        "colab": {
          "base_uri": "https://localhost:8080/"
        },
        "id": "O4KCm0meo6H1",
        "outputId": "62153953-39fc-4ed1-c968-f760d87ef5ef"
      },
      "outputs": [
        {
          "output_type": "stream",
          "name": "stdout",
          "text": [
            "Requirement already satisfied: yfinance in /usr/local/lib/python3.10/dist-packages (0.2.41)\n",
            "Requirement already satisfied: pandas in /usr/local/lib/python3.10/dist-packages (2.1.4)\n",
            "Requirement already satisfied: numpy in /usr/local/lib/python3.10/dist-packages (1.26.4)\n",
            "Requirement already satisfied: requests>=2.31 in /usr/local/lib/python3.10/dist-packages (from yfinance) (2.32.3)\n",
            "Requirement already satisfied: multitasking>=0.0.7 in /usr/local/lib/python3.10/dist-packages (from yfinance) (0.0.11)\n",
            "Requirement already satisfied: lxml>=4.9.1 in /usr/local/lib/python3.10/dist-packages (from yfinance) (4.9.4)\n",
            "Requirement already satisfied: platformdirs>=2.0.0 in /usr/local/lib/python3.10/dist-packages (from yfinance) (4.2.2)\n",
            "Requirement already satisfied: pytz>=2022.5 in /usr/local/lib/python3.10/dist-packages (from yfinance) (2024.1)\n",
            "Requirement already satisfied: frozendict>=2.3.4 in /usr/local/lib/python3.10/dist-packages (from yfinance) (2.4.4)\n",
            "Requirement already satisfied: peewee>=3.16.2 in /usr/local/lib/python3.10/dist-packages (from yfinance) (3.17.6)\n",
            "Requirement already satisfied: beautifulsoup4>=4.11.1 in /usr/local/lib/python3.10/dist-packages (from yfinance) (4.12.3)\n",
            "Requirement already satisfied: html5lib>=1.1 in /usr/local/lib/python3.10/dist-packages (from yfinance) (1.1)\n",
            "Requirement already satisfied: python-dateutil>=2.8.2 in /usr/local/lib/python3.10/dist-packages (from pandas) (2.8.2)\n",
            "Requirement already satisfied: tzdata>=2022.1 in /usr/local/lib/python3.10/dist-packages (from pandas) (2024.1)\n",
            "Requirement already satisfied: soupsieve>1.2 in /usr/local/lib/python3.10/dist-packages (from beautifulsoup4>=4.11.1->yfinance) (2.5)\n",
            "Requirement already satisfied: six>=1.9 in /usr/local/lib/python3.10/dist-packages (from html5lib>=1.1->yfinance) (1.16.0)\n",
            "Requirement already satisfied: webencodings in /usr/local/lib/python3.10/dist-packages (from html5lib>=1.1->yfinance) (0.5.1)\n",
            "Requirement already satisfied: charset-normalizer<4,>=2 in /usr/local/lib/python3.10/dist-packages (from requests>=2.31->yfinance) (3.3.2)\n",
            "Requirement already satisfied: idna<4,>=2.5 in /usr/local/lib/python3.10/dist-packages (from requests>=2.31->yfinance) (3.7)\n",
            "Requirement already satisfied: urllib3<3,>=1.21.1 in /usr/local/lib/python3.10/dist-packages (from requests>=2.31->yfinance) (2.0.7)\n",
            "Requirement already satisfied: certifi>=2017.4.17 in /usr/local/lib/python3.10/dist-packages (from requests>=2.31->yfinance) (2024.7.4)\n"
          ]
        }
      ],
      "source": [
        "!pip install yfinance pandas numpy"
      ]
    },
    {
      "cell_type": "markdown",
      "source": [
        "#Create an agent to monitor stock prices under $1000 as investment recommendation"
      ],
      "metadata": {
        "id": "8dhstDrfyRPL"
      }
    },
    {
      "cell_type": "code",
      "source": [
        "import yfinance as yf\n",
        "import pandas as pd\n",
        "import numpy as np\n",
        "from datetime import datetime, timedelta\n",
        "\n",
        "class StockInvestmentAgent:\n",
        "    def __init__(self, budget=1000):\n",
        "        self.budget = budget\n",
        "        self.stock_data = {}\n",
        "\n",
        "    def get_stock_data(self, symbols, period='10d'):\n",
        "        for symbol in symbols:\n",
        "            stock = yf.Ticker(symbol)\n",
        "            data = stock.history(period=period)\n",
        "            if not data.empty:\n",
        "                self.stock_data[symbol] = data\n",
        "\n",
        "    def analyze_stocks(self):\n",
        "        profitable_stocks = []\n",
        "        for symbol, data in self.stock_data.items():\n",
        "            closing_prices = data['Close']\n",
        "            initial_price = closing_prices.iloc[0]\n",
        "            final_price = closing_prices.iloc[-1]\n",
        "            price_change = final_price - initial_price\n",
        "            percentage_gain = (price_change / initial_price) * 100\n",
        "            if initial_price <= self.budget:\n",
        "                profitable_stocks.append((symbol, initial_price, percentage_gain))\n",
        "\n",
        "        return sorted(profitable_stocks, key=lambda x: x[2], reverse=True)\n",
        "\n",
        "    def recommend_investment(self):\n",
        "        recommendations = self.analyze_stocks()\n",
        "        if recommendations:\n",
        "            best_stock = recommendations[0]\n",
        "            symbol, price, gain = best_stock\n",
        "            num_shares = self.budget // price\n",
        "            investment = num_shares * price\n",
        "            return {\n",
        "                \"Best Stock\": symbol,\n",
        "                \"Price per Share\": price,\n",
        "                \"Estimated Gain (%)\": gain,\n",
        "                \"Total Investment\": investment,\n",
        "                \"Number of Shares\": num_shares\n",
        "            }\n",
        "        else:\n",
        "            return {\"Message\": \"No profitable investment found under $1000.\"}\n",
        "\n",
        "symbols = [\"AAPL\", \"GOOGL\", \"MSFT\", \"AMZN\", \"TSLA\", \"NFLX\", \"META\"]\n",
        "agent = StockInvestmentAgent(budget=1000)\n",
        "agent.get_stock_data(symbols, period='5d')\n",
        "recommendation = agent.recommend_investment()\n",
        "recommendation"
      ],
      "metadata": {
        "colab": {
          "base_uri": "https://localhost:8080/"
        },
        "id": "RM9a5hKipBzI",
        "outputId": "0c904d3e-ff0e-4d84-fa45-ba4f9f827001"
      },
      "execution_count": 3,
      "outputs": [
        {
          "output_type": "execute_result",
          "data": {
            "text/plain": [
              "{'Best Stock': 'TSLA',\n",
              " 'Price per Share': 191.75999450683594,\n",
              " 'Estimated Gain (%)': 8.38027105995035,\n",
              " 'Total Investment': 958.7999725341797,\n",
              " 'Number of Shares': 5.0}"
            ]
          },
          "metadata": {},
          "execution_count": 3
        }
      ]
    },
    {
      "cell_type": "markdown",
      "source": [
        "#Keep the stock monitoring agent running on background"
      ],
      "metadata": {
        "id": "B1F39VUbqjqg"
      }
    },
    {
      "cell_type": "code",
      "source": [
        "!pip install schedule"
      ],
      "metadata": {
        "colab": {
          "base_uri": "https://localhost:8080/"
        },
        "id": "E6nt0n11qw88",
        "outputId": "53d9e1a9-5bbb-4d51-fd28-168503348a76"
      },
      "execution_count": 6,
      "outputs": [
        {
          "output_type": "stream",
          "name": "stdout",
          "text": [
            "Collecting schedule\n",
            "  Using cached schedule-1.2.2-py3-none-any.whl.metadata (3.8 kB)\n",
            "Downloading schedule-1.2.2-py3-none-any.whl (12 kB)\n",
            "Installing collected packages: schedule\n",
            "Successfully installed schedule-1.2.2\n"
          ]
        }
      ]
    },
    {
      "cell_type": "code",
      "source": [
        "import yfinance as yf\n",
        "import pandas as pd\n",
        "import numpy as np\n",
        "import schedule\n",
        "import time\n",
        "from datetime import datetime, timedelta\n",
        "\n",
        "class StockInvestmentAgent:\n",
        "    def __init__(self, budget=1000):\n",
        "        self.budget = budget\n",
        "        self.stock_data = {}\n",
        "\n",
        "    def get_stock_data(self, symbols, period='1d'):\n",
        "        for symbol in symbols:\n",
        "            stock = yf.Ticker(symbol)\n",
        "            data = stock.history(period=period)\n",
        "            if not data.empty:\n",
        "                self.stock_data[symbol] = data\n",
        "\n",
        "    def analyze_stocks(self):\n",
        "        profitable_stocks = []\n",
        "        for symbol, data in self.stock_data.items():\n",
        "            closing_prices = data['Close']\n",
        "            initial_price = closing_prices.iloc[0]\n",
        "            final_price = closing_prices.iloc[-1]\n",
        "            price_change = final_price - initial_price\n",
        "            percentage_gain = (price_change / initial_price) * 100\n",
        "            if initial_price <= self.budget:\n",
        "                profitable_stocks.append((symbol, initial_price, percentage_gain))\n",
        "\n",
        "        return sorted(profitable_stocks, key=lambda x: x[2], reverse=True)\n",
        "\n",
        "    def recommend_investment(self):\n",
        "        recommendations = self.analyze_stocks()\n",
        "        if recommendations:\n",
        "            best_stock = recommendations[0]\n",
        "            symbol, price, gain = best_stock\n",
        "            num_shares = self.budget // price\n",
        "            investment = num_shares * price\n",
        "            print(f\"Best investment: {symbol}\")\n",
        "            print(f\"Price per share: ${price:.2f}\")\n",
        "            print(f\"Estimated gain: {gain:.2f}%\")\n",
        "            print(f\"Total investment: ${investment:.2f} for {num_shares} shares\")\n",
        "        else:\n",
        "            print(\"No profitable investment found under $1000.\")\n",
        "\n",
        "def run_agent():\n",
        "    symbols = [\"AAPL\", \"GOOGL\", \"MSFT\", \"AMZN\", \"TSLA\", \"NFLX\", \"META\"]\n",
        "    agent = StockInvestmentAgent(budget=1000)\n",
        "    agent.get_stock_data(symbols)\n",
        "    agent.recommend_investment()\n",
        "\n",
        "# Schedule the agent to run every day for 5 days\n",
        "end_date = datetime.now() + timedelta(minutes=5)\n",
        "schedule.every().day.at(\"10:00\").do(run_agent)\n",
        "\n",
        "while datetime.now() < end_date:\n",
        "    schedule.run_pending()\n",
        "    time.sleep(1)\n",
        "\n",
        "print(\"The 5-day period is over. The agent has stopped running.\")"
      ],
      "metadata": {
        "colab": {
          "base_uri": "https://localhost:8080/"
        },
        "id": "jPXkNxz1qqNK",
        "outputId": "965c7d81-2efe-400e-a2f0-b95f2feb05d2"
      },
      "execution_count": 10,
      "outputs": [
        {
          "output_type": "stream",
          "name": "stdout",
          "text": [
            "The 5-day period is over. The agent has stopped running.\n"
          ]
        }
      ]
    }
  ]
}